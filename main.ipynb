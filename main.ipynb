{
 "cells": [
  {
   "cell_type": "markdown",
   "metadata": {},
   "source": [
    "# Description of the Dataset\n",
    "\n",
    "This dataset is for ABC Multistate bank with following columns: \n",
    "1.\tcustomer_id, unused variable.\n",
    "2.\tcredit_score, used as input.\n",
    "3.\tcountry, used as input.\n",
    "4.\tgender, used as input.\n",
    "5.\tage, used as input.\n",
    "6.\ttenure, used as input.\n",
    "7.\tbalance, used as input.\n",
    "8.\tproducts_number, used as input.\n",
    "9.\tcredit_card, used as input.\n",
    "10.\tactive_member, used as input.\n",
    "11.\testimated_salary, used as input.\n",
    "12.\tchurn, used as the target. 1 if the client has left the bank during some period or 0 if he/she has not."
   ]
  },
  {
   "cell_type": "markdown",
   "metadata": {},
   "source": [
    "# 1. Load Libraries"
   ]
  },
  {
   "cell_type": "code",
   "execution_count": 38,
   "metadata": {},
   "outputs": [],
   "source": [
    "# Load Required Libraries\n",
    "import pandas as pd; \n",
    "import numpy as np; \n",
    "import matplotlib.pyplot as plt\n",
    "import matplotlib as mpl\n",
    "from matplotlib.figure import Figure\n",
    "import seaborn as sns\n",
    "import plotly.express as px\n",
    "import plotly.graph_objects as go\n",
    "from plotly.subplots import make_subplots\n",
    "import warnings\n",
    "warnings.filterwarnings('ignore')\n",
    "import param\n",
    "import hvplot.pandas\n",
    "import panel as pn\n",
    "pn.extension()\n",
    "mpl.use('agg')\n",
    "\n",
    "\n",
    "from sklearn.preprocessing import StandardScaler\n",
    "from sklearn.preprocessing import LabelEncoder\n",
    "from sklearn.tree import DecisionTreeClassifier\n",
    "from sklearn.ensemble import RandomForestClassifier\n",
    "from sklearn.naive_bayes import GaussianNB\n",
    "from sklearn.neighbors import KNeighborsClassifier\n",
    "from sklearn.svm import SVC\n",
    "from sklearn.neural_network import MLPClassifier\n",
    "from sklearn.ensemble import AdaBoostClassifier\n",
    "from sklearn.ensemble import GradientBoostingClassifier\n",
    "from sklearn.ensemble import ExtraTreesClassifier\n",
    "from sklearn.linear_model import LogisticRegression\n",
    "from sklearn.model_selection import train_test_split\n",
    "from sklearn.metrics import accuracy_score\n",
    "from xgboost import XGBClassifier\n",
    "from catboost import CatBoostClassifier\n",
    "from sklearn import metrics\n",
    "from sklearn.metrics import roc_curve\n",
    "from sklearn.metrics import recall_score, confusion_matrix, precision_score, f1_score, accuracy_score, classification_report\n",
    "from sklearn.metrics import balanced_accuracy_score, roc_auc_score, accuracy_score, classification_report, confusion_matrix"
   ]
  },
  {
   "cell_type": "markdown",
   "metadata": {},
   "source": [
    "# Read Data from csv\n"
   ]
  },
  {
   "cell_type": "code",
   "execution_count": 39,
   "metadata": {},
   "outputs": [],
   "source": [
    "# 2. Reading Data From CSV\n",
    "csv_file = \"data/Dataset2.csv\"\n",
    "df = pd.read_csv(csv_file)\n"
   ]
  },
  {
   "cell_type": "markdown",
   "metadata": {},
   "source": [
    "# 3. Understanding the dataset"
   ]
  },
  {
   "cell_type": "code",
   "execution_count": 40,
   "metadata": {},
   "outputs": [
    {
     "data": {
      "text/html": [
       "<div>\n",
       "<style scoped>\n",
       "    .dataframe tbody tr th:only-of-type {\n",
       "        vertical-align: middle;\n",
       "    }\n",
       "\n",
       "    .dataframe tbody tr th {\n",
       "        vertical-align: top;\n",
       "    }\n",
       "\n",
       "    .dataframe thead th {\n",
       "        text-align: right;\n",
       "    }\n",
       "</style>\n",
       "<table border=\"1\" class=\"dataframe\">\n",
       "  <thead>\n",
       "    <tr style=\"text-align: right;\">\n",
       "      <th></th>\n",
       "      <th>RowNumber</th>\n",
       "      <th>CustomerId</th>\n",
       "      <th>Surname</th>\n",
       "      <th>CreditScore</th>\n",
       "      <th>Geography</th>\n",
       "      <th>Gender</th>\n",
       "      <th>Age</th>\n",
       "      <th>Tenure</th>\n",
       "      <th>Balance</th>\n",
       "      <th>NumOfProducts</th>\n",
       "      <th>HasCrCard</th>\n",
       "      <th>IsActiveMember</th>\n",
       "      <th>EstimatedSalary</th>\n",
       "      <th>Exited</th>\n",
       "    </tr>\n",
       "  </thead>\n",
       "  <tbody>\n",
       "    <tr>\n",
       "      <th>9995</th>\n",
       "      <td>9996</td>\n",
       "      <td>15606229</td>\n",
       "      <td>Obijiaku</td>\n",
       "      <td>771</td>\n",
       "      <td>France</td>\n",
       "      <td>Male</td>\n",
       "      <td>39</td>\n",
       "      <td>5</td>\n",
       "      <td>0</td>\n",
       "      <td>2</td>\n",
       "      <td>1</td>\n",
       "      <td>0</td>\n",
       "      <td>9627064</td>\n",
       "      <td>0</td>\n",
       "    </tr>\n",
       "    <tr>\n",
       "      <th>9996</th>\n",
       "      <td>9997</td>\n",
       "      <td>15569892</td>\n",
       "      <td>Johnstone</td>\n",
       "      <td>516</td>\n",
       "      <td>France</td>\n",
       "      <td>Male</td>\n",
       "      <td>35</td>\n",
       "      <td>10</td>\n",
       "      <td>5736961</td>\n",
       "      <td>1</td>\n",
       "      <td>1</td>\n",
       "      <td>1</td>\n",
       "      <td>10169977</td>\n",
       "      <td>0</td>\n",
       "    </tr>\n",
       "    <tr>\n",
       "      <th>9997</th>\n",
       "      <td>9998</td>\n",
       "      <td>15584532</td>\n",
       "      <td>Liu</td>\n",
       "      <td>709</td>\n",
       "      <td>France</td>\n",
       "      <td>Female</td>\n",
       "      <td>36</td>\n",
       "      <td>7</td>\n",
       "      <td>0</td>\n",
       "      <td>1</td>\n",
       "      <td>0</td>\n",
       "      <td>1</td>\n",
       "      <td>4208558</td>\n",
       "      <td>1</td>\n",
       "    </tr>\n",
       "    <tr>\n",
       "      <th>9998</th>\n",
       "      <td>9999</td>\n",
       "      <td>15682355</td>\n",
       "      <td>Sabbatini</td>\n",
       "      <td>772</td>\n",
       "      <td>Germany</td>\n",
       "      <td>Male</td>\n",
       "      <td>42</td>\n",
       "      <td>3</td>\n",
       "      <td>7507531</td>\n",
       "      <td>2</td>\n",
       "      <td>1</td>\n",
       "      <td>0</td>\n",
       "      <td>9288852</td>\n",
       "      <td>1</td>\n",
       "    </tr>\n",
       "    <tr>\n",
       "      <th>9999</th>\n",
       "      <td>10000</td>\n",
       "      <td>15628319</td>\n",
       "      <td>Walker</td>\n",
       "      <td>792</td>\n",
       "      <td>France</td>\n",
       "      <td>Female</td>\n",
       "      <td>28</td>\n",
       "      <td>4</td>\n",
       "      <td>13014279</td>\n",
       "      <td>1</td>\n",
       "      <td>1</td>\n",
       "      <td>0</td>\n",
       "      <td>3819078</td>\n",
       "      <td>0</td>\n",
       "    </tr>\n",
       "  </tbody>\n",
       "</table>\n",
       "</div>"
      ],
      "text/plain": [
       "      RowNumber  CustomerId    Surname  CreditScore Geography  Gender  Age  \\\n",
       "9995       9996    15606229   Obijiaku          771    France    Male   39   \n",
       "9996       9997    15569892  Johnstone          516    France    Male   35   \n",
       "9997       9998    15584532        Liu          709    France  Female   36   \n",
       "9998       9999    15682355  Sabbatini          772   Germany    Male   42   \n",
       "9999      10000    15628319     Walker          792    France  Female   28   \n",
       "\n",
       "      Tenure   Balance  NumOfProducts  HasCrCard  IsActiveMember  \\\n",
       "9995       5         0              2          1               0   \n",
       "9996      10   5736961              1          1               1   \n",
       "9997       7         0              1          0               1   \n",
       "9998       3   7507531              2          1               0   \n",
       "9999       4  13014279              1          1               0   \n",
       "\n",
       "      EstimatedSalary  Exited  \n",
       "9995          9627064       0  \n",
       "9996         10169977       0  \n",
       "9997          4208558       1  \n",
       "9998          9288852       1  \n",
       "9999          3819078       0  "
      ]
     },
     "execution_count": 40,
     "metadata": {},
     "output_type": "execute_result"
    }
   ],
   "source": [
    "# peek into dataset\n",
    "df.head()\n",
    "df.tail()"
   ]
  },
  {
   "cell_type": "code",
   "execution_count": 41,
   "metadata": {},
   "outputs": [
    {
     "data": {
      "text/plain": [
       "Index(['RowNumber', 'CustomerId', 'Surname', 'CreditScore', 'Geography',\n",
       "       'Gender', 'Age', 'Tenure', 'Balance', 'NumOfProducts', 'HasCrCard',\n",
       "       'IsActiveMember', 'EstimatedSalary', 'Exited'],\n",
       "      dtype='object')"
      ]
     },
     "execution_count": 41,
     "metadata": {},
     "output_type": "execute_result"
    }
   ],
   "source": [
    "# See all the columns in the dataset\n",
    "df.columns"
   ]
  },
  {
   "cell_type": "code",
   "execution_count": 42,
   "metadata": {},
   "outputs": [
    {
     "name": "stdout",
     "output_type": "stream",
     "text": [
      "<class 'pandas.core.frame.DataFrame'>\n",
      "RangeIndex: 10000 entries, 0 to 9999\n",
      "Data columns (total 14 columns):\n",
      " #   Column           Non-Null Count  Dtype \n",
      "---  ------           --------------  ----- \n",
      " 0   RowNumber        10000 non-null  int64 \n",
      " 1   CustomerId       10000 non-null  int64 \n",
      " 2   Surname          10000 non-null  object\n",
      " 3   CreditScore      10000 non-null  int64 \n",
      " 4   Geography        10000 non-null  object\n",
      " 5   Gender           10000 non-null  object\n",
      " 6   Age              10000 non-null  int64 \n",
      " 7   Tenure           10000 non-null  int64 \n",
      " 8   Balance          10000 non-null  int64 \n",
      " 9   NumOfProducts    10000 non-null  int64 \n",
      " 10  HasCrCard        10000 non-null  int64 \n",
      " 11  IsActiveMember   10000 non-null  int64 \n",
      " 12  EstimatedSalary  10000 non-null  int64 \n",
      " 13  Exited           10000 non-null  int64 \n",
      "dtypes: int64(11), object(3)\n",
      "memory usage: 1.1+ MB\n"
     ]
    }
   ],
   "source": [
    "# General Information of dataset\n",
    "df.info()"
   ]
  },
  {
   "cell_type": "code",
   "execution_count": 43,
   "metadata": {},
   "outputs": [
    {
     "data": {
      "text/plain": [
       "RowNumber          0\n",
       "CustomerId         0\n",
       "Surname            0\n",
       "CreditScore        0\n",
       "Geography          0\n",
       "Gender             0\n",
       "Age                0\n",
       "Tenure             0\n",
       "Balance            0\n",
       "NumOfProducts      0\n",
       "HasCrCard          0\n",
       "IsActiveMember     0\n",
       "EstimatedSalary    0\n",
       "Exited             0\n",
       "dtype: int64"
      ]
     },
     "execution_count": 43,
     "metadata": {},
     "output_type": "execute_result"
    }
   ],
   "source": [
    "# check number of null values present in each features\n",
    "df.isna().sum()"
   ]
  },
  {
   "cell_type": "code",
   "execution_count": 44,
   "metadata": {},
   "outputs": [
    {
     "data": {
      "text/html": [
       "<div>\n",
       "<style scoped>\n",
       "    .dataframe tbody tr th:only-of-type {\n",
       "        vertical-align: middle;\n",
       "    }\n",
       "\n",
       "    .dataframe tbody tr th {\n",
       "        vertical-align: top;\n",
       "    }\n",
       "\n",
       "    .dataframe thead th {\n",
       "        text-align: right;\n",
       "    }\n",
       "</style>\n",
       "<table border=\"1\" class=\"dataframe\">\n",
       "  <thead>\n",
       "    <tr style=\"text-align: right;\">\n",
       "      <th></th>\n",
       "      <th>RowNumber</th>\n",
       "      <th>CustomerId</th>\n",
       "      <th>CreditScore</th>\n",
       "      <th>Age</th>\n",
       "      <th>Tenure</th>\n",
       "      <th>Balance</th>\n",
       "      <th>NumOfProducts</th>\n",
       "      <th>HasCrCard</th>\n",
       "      <th>IsActiveMember</th>\n",
       "      <th>EstimatedSalary</th>\n",
       "      <th>Exited</th>\n",
       "    </tr>\n",
       "  </thead>\n",
       "  <tbody>\n",
       "    <tr>\n",
       "      <th>count</th>\n",
       "      <td>10000.00000</td>\n",
       "      <td>1.000000e+04</td>\n",
       "      <td>10000.000000</td>\n",
       "      <td>10000.000000</td>\n",
       "      <td>10000.000000</td>\n",
       "      <td>1.000000e+04</td>\n",
       "      <td>10000.000000</td>\n",
       "      <td>10000.00000</td>\n",
       "      <td>10000.000000</td>\n",
       "      <td>1.000000e+04</td>\n",
       "      <td>10000.000000</td>\n",
       "    </tr>\n",
       "    <tr>\n",
       "      <th>mean</th>\n",
       "      <td>5000.50000</td>\n",
       "      <td>1.569094e+07</td>\n",
       "      <td>650.528800</td>\n",
       "      <td>38.921800</td>\n",
       "      <td>5.012800</td>\n",
       "      <td>6.980471e+06</td>\n",
       "      <td>1.530200</td>\n",
       "      <td>0.70550</td>\n",
       "      <td>0.515100</td>\n",
       "      <td>9.089385e+06</td>\n",
       "      <td>0.203700</td>\n",
       "    </tr>\n",
       "    <tr>\n",
       "      <th>std</th>\n",
       "      <td>2886.89568</td>\n",
       "      <td>7.193619e+04</td>\n",
       "      <td>96.653299</td>\n",
       "      <td>10.487806</td>\n",
       "      <td>2.892174</td>\n",
       "      <td>6.285896e+06</td>\n",
       "      <td>0.581654</td>\n",
       "      <td>0.45584</td>\n",
       "      <td>0.499797</td>\n",
       "      <td>6.128208e+06</td>\n",
       "      <td>0.402769</td>\n",
       "    </tr>\n",
       "    <tr>\n",
       "      <th>min</th>\n",
       "      <td>1.00000</td>\n",
       "      <td>1.556570e+07</td>\n",
       "      <td>350.000000</td>\n",
       "      <td>18.000000</td>\n",
       "      <td>0.000000</td>\n",
       "      <td>0.000000e+00</td>\n",
       "      <td>1.000000</td>\n",
       "      <td>0.00000</td>\n",
       "      <td>0.000000</td>\n",
       "      <td>5.230000e+02</td>\n",
       "      <td>0.000000</td>\n",
       "    </tr>\n",
       "    <tr>\n",
       "      <th>25%</th>\n",
       "      <td>2500.75000</td>\n",
       "      <td>1.562853e+07</td>\n",
       "      <td>584.000000</td>\n",
       "      <td>32.000000</td>\n",
       "      <td>3.000000</td>\n",
       "      <td>0.000000e+00</td>\n",
       "      <td>1.000000</td>\n",
       "      <td>0.00000</td>\n",
       "      <td>0.000000</td>\n",
       "      <td>3.336751e+06</td>\n",
       "      <td>0.000000</td>\n",
       "    </tr>\n",
       "    <tr>\n",
       "      <th>50%</th>\n",
       "      <td>5000.50000</td>\n",
       "      <td>1.569074e+07</td>\n",
       "      <td>652.000000</td>\n",
       "      <td>37.000000</td>\n",
       "      <td>5.000000</td>\n",
       "      <td>8.668510e+06</td>\n",
       "      <td>1.000000</td>\n",
       "      <td>1.00000</td>\n",
       "      <td>1.000000</td>\n",
       "      <td>8.890572e+06</td>\n",
       "      <td>0.000000</td>\n",
       "    </tr>\n",
       "    <tr>\n",
       "      <th>75%</th>\n",
       "      <td>7500.25000</td>\n",
       "      <td>1.575323e+07</td>\n",
       "      <td>718.000000</td>\n",
       "      <td>44.000000</td>\n",
       "      <td>7.000000</td>\n",
       "      <td>1.246215e+07</td>\n",
       "      <td>2.000000</td>\n",
       "      <td>1.00000</td>\n",
       "      <td>1.000000</td>\n",
       "      <td>1.439529e+07</td>\n",
       "      <td>0.000000</td>\n",
       "    </tr>\n",
       "    <tr>\n",
       "      <th>max</th>\n",
       "      <td>10000.00000</td>\n",
       "      <td>1.581569e+07</td>\n",
       "      <td>850.000000</td>\n",
       "      <td>92.000000</td>\n",
       "      <td>10.000000</td>\n",
       "      <td>2.508981e+07</td>\n",
       "      <td>4.000000</td>\n",
       "      <td>1.00000</td>\n",
       "      <td>1.000000</td>\n",
       "      <td>1.999925e+07</td>\n",
       "      <td>1.000000</td>\n",
       "    </tr>\n",
       "  </tbody>\n",
       "</table>\n",
       "</div>"
      ],
      "text/plain": [
       "         RowNumber    CustomerId   CreditScore           Age        Tenure  \\\n",
       "count  10000.00000  1.000000e+04  10000.000000  10000.000000  10000.000000   \n",
       "mean    5000.50000  1.569094e+07    650.528800     38.921800      5.012800   \n",
       "std     2886.89568  7.193619e+04     96.653299     10.487806      2.892174   \n",
       "min        1.00000  1.556570e+07    350.000000     18.000000      0.000000   \n",
       "25%     2500.75000  1.562853e+07    584.000000     32.000000      3.000000   \n",
       "50%     5000.50000  1.569074e+07    652.000000     37.000000      5.000000   \n",
       "75%     7500.25000  1.575323e+07    718.000000     44.000000      7.000000   \n",
       "max    10000.00000  1.581569e+07    850.000000     92.000000     10.000000   \n",
       "\n",
       "            Balance  NumOfProducts    HasCrCard  IsActiveMember  \\\n",
       "count  1.000000e+04   10000.000000  10000.00000    10000.000000   \n",
       "mean   6.980471e+06       1.530200      0.70550        0.515100   \n",
       "std    6.285896e+06       0.581654      0.45584        0.499797   \n",
       "min    0.000000e+00       1.000000      0.00000        0.000000   \n",
       "25%    0.000000e+00       1.000000      0.00000        0.000000   \n",
       "50%    8.668510e+06       1.000000      1.00000        1.000000   \n",
       "75%    1.246215e+07       2.000000      1.00000        1.000000   \n",
       "max    2.508981e+07       4.000000      1.00000        1.000000   \n",
       "\n",
       "       EstimatedSalary        Exited  \n",
       "count     1.000000e+04  10000.000000  \n",
       "mean      9.089385e+06      0.203700  \n",
       "std       6.128208e+06      0.402769  \n",
       "min       5.230000e+02      0.000000  \n",
       "25%       3.336751e+06      0.000000  \n",
       "50%       8.890572e+06      0.000000  \n",
       "75%       1.439529e+07      0.000000  \n",
       "max       1.999925e+07      1.000000  "
      ]
     },
     "execution_count": 44,
     "metadata": {},
     "output_type": "execute_result"
    }
   ],
   "source": [
    "# get statistical information of dataset\n",
    "df.describe()"
   ]
  },
  {
   "cell_type": "markdown",
   "metadata": {},
   "source": [
    "# 3. Dropping unnecessary columns and Missing Values"
   ]
  },
  {
   "cell_type": "code",
   "execution_count": 45,
   "metadata": {},
   "outputs": [
    {
     "data": {
      "text/plain": [
       "CreditScore        0\n",
       "Geography          0\n",
       "Gender             0\n",
       "Age                0\n",
       "Tenure             0\n",
       "Balance            0\n",
       "NumOfProducts      0\n",
       "HasCrCard          0\n",
       "IsActiveMember     0\n",
       "EstimatedSalary    0\n",
       "Exited             0\n",
       "dtype: int64"
      ]
     },
     "execution_count": 45,
     "metadata": {},
     "output_type": "execute_result"
    }
   ],
   "source": [
    "# Visualizing Missing Values\n",
    "df.drop(['RowNumber','CustomerId','Surname'],axis=1,inplace=True)\n",
    "# Checking to missing value\n",
    "df.isna().sum()\n",
    "\n",
    "# Droping Missing Value\n",
    "# df.dropna()\n"
   ]
  },
  {
   "cell_type": "markdown",
   "metadata": {},
   "source": [
    "In this dataset, there is no missing values. Therefore, it is not necessary to remove missng values."
   ]
  },
  {
   "cell_type": "markdown",
   "metadata": {},
   "source": [
    "# 4. Preliminary Data Analysis"
   ]
  },
  {
   "cell_type": "code",
   "execution_count": 46,
   "metadata": {},
   "outputs": [
    {
     "name": "stdout",
     "output_type": "stream",
     "text": [
      "Number of customers with a credit card: 7055\n"
     ]
    }
   ],
   "source": [
    "# How many of the customer has credit card?\n",
    "\n",
    "num_customers_with_credit_card = (df[\"HasCrCard\"] == 1).sum()\n",
    "\n",
    "# Print the result\n",
    "print(\"Number of customers with a credit card:\", num_customers_with_credit_card)"
   ]
  },
  {
   "cell_type": "code",
   "execution_count": 47,
   "metadata": {},
   "outputs": [
    {
     "name": "stdout",
     "output_type": "stream",
     "text": [
      "There are 5151 active members in the bank dataset.\n"
     ]
    }
   ],
   "source": [
    "# How many are active member?\n",
    "active_criteria = (df[\"IsActiveMember\"] > 0)\n",
    "\n",
    "# Count the number of active members\n",
    "num_active_members = active_criteria.sum()\n",
    "\n",
    "# Print the result\n",
    "print(\"There are\", num_active_members, \"active members in the bank dataset.\")"
   ]
  },
  {
   "cell_type": "code",
   "execution_count": 48,
   "metadata": {},
   "outputs": [
    {
     "name": "stdout",
     "output_type": "stream",
     "text": [
      "There are 2037 customers who have exited the bank.\n"
     ]
    }
   ],
   "source": [
    "# How many customers have existed the bank?\n",
    "# Define the criteria for customers who have exited the bank\n",
    "exit_criteria = df[\"Exited\"] == 1\n",
    "\n",
    "# Count the number of customers who have exited the bank\n",
    "num_exited_customers = exit_criteria.sum()\n",
    "\n",
    "# Print the result\n",
    "print(\"There are\", num_exited_customers, \"customers who have exited the bank.\")"
   ]
  },
  {
   "cell_type": "code",
   "execution_count": 49,
   "metadata": {},
   "outputs": [
    {
     "name": "stdout",
     "output_type": "stream",
     "text": [
      "Number of males: 5457\n",
      "Number of females: 4543\n"
     ]
    }
   ],
   "source": [
    "# Dataset based on gender?\n",
    "# Count the number of males and females\n",
    "male_count = (df[\"Gender\"] == \"Male\").sum()\n",
    "female_count = (df[\"Gender\"] == \"Female\").sum()\n",
    "\n",
    "# Print the results\n",
    "print(f\"Number of males: {male_count}\")\n",
    "print(f\"Number of females: {female_count}\")"
   ]
  },
  {
   "cell_type": "code",
   "execution_count": 50,
   "metadata": {},
   "outputs": [],
   "source": [
    "# Plot the age distribution using a histogram\n",
    "\n",
    "plt.hist(df['Age'], bins=10, edgecolor='black')\n",
    "\n",
    "# Add labels and title\n",
    "plt.xlabel('Age')\n",
    "plt.ylabel('Count')\n",
    "plt.title('Age Distribution')\n",
    "\n",
    "# Show the plot\n",
    "plt.show()"
   ]
  },
  {
   "cell_type": "code",
   "execution_count": 51,
   "metadata": {},
   "outputs": [],
   "source": [
    "# Propotion of different income level\n",
    "# Count the number of individuals in each income level\n",
    "\n",
    "\n",
    "income_counts = df[\"Balance\"].value_counts()\n",
    "\n",
    "# Calculate the proportion of each income level\n",
    "income_proportions = income_counts / income_counts.sum()\n",
    "\n",
    "# Plot the income proportions using a pie chart\n",
    "plt.pie(income_proportions, labels=income_proportions.index, autopct=\"%1.1f%%\")\n",
    "\n",
    "# Add title\n",
    "plt.title(\"Income Proportions\")\n",
    "\n",
    "# Show the plot\n",
    "plt.show()"
   ]
  },
  {
   "cell_type": "code",
   "execution_count": 52,
   "metadata": {},
   "outputs": [],
   "source": [
    "# Distribution of Tottal NumOfProducts\n",
    "# Plot the distribution using a histogram\n",
    "plt.hist(df[\"NumOfProducts\"], bins=10, edgecolor=\"black\")\n",
    "\n",
    "# Add labels and title\n",
    "plt.xlabel(\"Total Number of Products\")\n",
    "plt.ylabel(\"Count\")\n",
    "plt.title(\"Distribution of Total Number of Products\")\n",
    "\n",
    "# Show the plot\n",
    "plt.show()"
   ]
  },
  {
   "cell_type": "code",
   "execution_count": 53,
   "metadata": {},
   "outputs": [],
   "source": [
    "# Distribution of Credit Limit\n",
    "# Plot the distribution using a histogram\n",
    "plt.hist(df[\"CreditScore\"], bins=10, edgecolor=\"black\")\n",
    "\n",
    "# Add labels and title\n",
    "plt.xlabel(\"Credit Score\")\n",
    "plt.ylabel(\"Count\")\n",
    "plt.title(\"Distribution of Credit Score\")\n",
    "\n",
    "# Show the plot\n",
    "plt.show()"
   ]
  },
  {
   "cell_type": "code",
   "execution_count": 54,
   "metadata": {},
   "outputs": [
    {
     "name": "stdout",
     "output_type": "stream",
     "text": [
      "Proportion of existing customers: 79.63%\n",
      "Proportion of non-existing customers: 20.37%\n"
     ]
    }
   ],
   "source": [
    "# Proportion of existed vs not existed customers\n",
    "# Calculate the proportion of existing vs non-existing customers\n",
    "customer_exist_count = df['Exited'].value_counts()\n",
    "customer_exist_prop = customer_exist_count / customer_exist_count.sum()\n",
    "\n",
    "# Print the results\n",
    "print(\"Proportion of existing customers: {:.2f}%\".format(customer_exist_prop[0]*100))\n",
    "print(\"Proportion of non-existing customers: {:.2f}%\".format(customer_exist_prop[1]*100))"
   ]
  },
  {
   "cell_type": "code",
   "execution_count": 55,
   "metadata": {},
   "outputs": [],
   "source": [
    "# Visualizing Missing Values\n",
    "# Create a heatmap of missing values\n",
    "sns.heatmap(df.isnull(), cbar=False)\n",
    "\n",
    "# Add title\n",
    "plt.title(\"Missing Values\")\n",
    "\n",
    "# Show the plot\n",
    "plt.show()"
   ]
  },
  {
   "cell_type": "markdown",
   "metadata": {},
   "source": [
    "# 5. Data Visualization with different charts & Tools"
   ]
  },
  {
   "cell_type": "code",
   "execution_count": 56,
   "metadata": {},
   "outputs": [],
   "source": [
    "labels = 'Churn', 'Remain'\n",
    "sizes = [df.Exited[df['Exited']==1].count(), df.Exited[df['Exited']==0].count()]\n",
    "explode = (0, 0.1)\n",
    "fig1, ax1 = plt.subplots(figsize=(10, 8))\n",
    "ax1.pie(sizes, explode=explode, labels=labels, autopct='%1.1f%%',\n",
    "        shadow=True, startangle=90 )\n",
    "ax1.axis('equal')\n",
    "plt.title(\"Ratio of customers churned\", size = 15 )\n",
    "plt.show()"
   ]
  },
  {
   "cell_type": "markdown",
   "metadata": {},
   "source": [
    "Hence, around 20% of consumers have churned. Therefore, the baseline model may predict that 20% of consumers would leave. However, considering that 20% is a tiny amount, we must guarantee that the selected model successfully predicts this 20% since it is more critical for the bank to identify and retain this group than to anticipate the remaining clients reliably."
   ]
  },
  {
   "cell_type": "code",
   "execution_count": 57,
   "metadata": {},
   "outputs": [
    {
     "data": {
      "text/plain": [
       "Gender\n",
       "Female    3404\n",
       "Male      4559\n",
       "Name: Exited, dtype: int64"
      ]
     },
     "execution_count": 57,
     "metadata": {},
     "output_type": "execute_result"
    }
   ],
   "source": [
    "df[\"Exited\"][df[\"Exited\"]== 0].groupby(by=df[\"Gender\"]).count()"
   ]
  },
  {
   "cell_type": "code",
   "execution_count": 58,
   "metadata": {},
   "outputs": [
    {
     "data": {
      "text/plain": [
       "Gender\n",
       "Female    1139\n",
       "Male       898\n",
       "Name: Exited, dtype: int64"
      ]
     },
     "execution_count": 58,
     "metadata": {},
     "output_type": "execute_result"
    }
   ],
   "source": [
    "df[\"Exited\"][df[\"Exited\"]== 1].groupby(by=df[\"Gender\"]).count()"
   ]
  },
  {
   "cell_type": "code",
   "execution_count": 59,
   "metadata": {},
   "outputs": [],
   "source": [
    "plt.figure(figsize=(6, 6))\n",
    "labels =[\"Churn\",\"Remain\"]\n",
    "values = [2037,7963]\n",
    "labels_gender = [\"F\",\"M\",\"F\",\"M\"]\n",
    "sizes_gender = [1139,898 , 3404,4559]\n",
    "colors = ['#580F41', '#9A0EEA']\n",
    "colors_gender = ['#FFFF14','#EF4026', '#FFFF14','#EF4026']\n",
    "explode = (0.3,0.3) \n",
    "explode_gender = (0.1,0.1,0.1,0.1)\n",
    "textprops = {\"fontsize\":15}\n",
    "\n",
    "plt.pie(values, labels=labels,autopct='%1.1f%%',pctdistance=1.08, labeldistance=0.8,colors=colors, startangle=90,frame=True, explode=explode,radius=10, textprops =textprops, counterclock = True, )\n",
    "plt.pie(sizes_gender,labels=labels_gender,colors=colors_gender,startangle=90, explode=explode_gender,radius=7, textprops =textprops, counterclock = True, )\n",
    "\n",
    "centre_circle = plt.Circle((0,0),5,color='black', fc='white',linewidth=0)\n",
    "fig = plt.gcf()\n",
    "fig.gca().add_artist(centre_circle)\n",
    "\n",
    "plt.title('Churn Distribution : Gender: Male(M), Female(F)', fontsize=15, y=1.1 )\n",
    "\n",
    " \n",
    "plt.axis('equal')\n",
    "plt.tight_layout()\n",
    "plt.show()"
   ]
  },
  {
   "cell_type": "markdown",
   "metadata": {},
   "source": [
    "According to the research, female customers have somewhat more churn than male customers. Yet, we cannot assume that gender is a major factor in influencing customer churn without completing statistical studies.It is crucial to remember that the churn rate may also be influenced by characteristics such as age, credit score, tenure, balance, and amount of bought items. To acquire a deeper knowledge of customer churn, it is vital to analyse the aforementioned aspects."
   ]
  },
  {
   "cell_type": "code",
   "execution_count": 60,
   "metadata": {},
   "outputs": [
    {
     "data": {
      "text/plain": [
       "<AxesSubplot: >"
      ]
     },
     "execution_count": 60,
     "metadata": {},
     "output_type": "execute_result"
    }
   ],
   "source": [
    "plt.figure(figsize=(10,7)),\n",
    "sns.heatmap(df.corr(numeric_only= True),vmin=0, vmax=1,annot=True , cmap='rainbow' )"
   ]
  },
  {
   "cell_type": "markdown",
   "metadata": {},
   "source": [
    "The correlation coefficient runs from -1 to 1, where 1 represents a positive correlation, 0 represents no correlation, and -1 represents a negative correlation.\n",
    "\n",
    "we may note that age has a correlation of 0.29 with customer attrition. This indicates that older customers are less likely to leave than younger customers.\n",
    "\n",
    "Conversely, tenure has a negative association of -0.014 with employee turnover. This indicates no direct correlation between the length of time a client has been with a bank and their chance of leaving.\n",
    "\n",
    "The correlation coefficient between Balance and Churn is 0.11, showing a slight positive association. This indicates that customers with more significant amounts are less likely to leave than those with more negligible levels.\n",
    "\n",
    "Quantity of goods and churn has a slight negative association value of -0.048. This indicates that customers who have bought more bank products are somewhat less likely to churn.\n",
    "\n",
    "A very modest negative link exists between churn and having a credit card, with a correlation value of -0.0071. This indicates that having a credit card has no discernible effect on client attrition.\n",
    "\n",
    "The correlation coefficient between active membership and churn is -0.16, showing a slight negative association. This indicates that active customers who use the bank's goods and services are less likely to leave than inactive customers.\n",
    "\n",
    "Age, balance, the quantity of items and active membership all show minor correlations with customer turnover, but tenure and owning a credit card have no link."
   ]
  },
  {
   "cell_type": "code",
   "execution_count": 61,
   "metadata": {},
   "outputs": [],
   "source": [
    "plt.style.use('classic')\n",
    "plt.figure(figsize=(12, 6))\n",
    "sns.countplot(x='Geography', hue='Exited', data=df , palette=['palegreen', 'darkseagreen'])\n",
    "plt.title('Churn by Country', fontsize=16)\n",
    "plt.xlabel('Country', fontsize=14)\n",
    "plt.ylabel('Count', fontsize=14)\n",
    "plt.legend(['Not Churned', 'Churned'], fontsize=12)\n",
    "plt.show()\n"
   ]
  },
  {
   "attachments": {},
   "cell_type": "markdown",
   "metadata": {},
   "source": [
    "The distribution of non-churned customers per nation is as follows: Customers from France make up 4,204, 1,695 and 2,064 of them. The distribution of churned customers by nation, on the other hand, is as follows: 810 customers are from France, 814 customers are from Germany, and 413 customers are from Spain.\n",
    "\n",
    "These findings reveal that the majority of customers in the sample did not churn, with France having the greatest proportion of non-churning customers. Nonetheless, there are significant numbers of churned customers from each of the three nations, demonstrating that churn-inducing variables may exist throughout the client base."
   ]
  },
  {
   "cell_type": "code",
   "execution_count": 62,
   "metadata": {},
   "outputs": [],
   "source": [
    "plt.style.use('seaborn')\n",
    "\n",
    "\n",
    "churned = df[df['Exited'] == 1]\n",
    "not_churned = df[df['Exited'] == 0]\n",
    "\n",
    "\n",
    "fig, axs = plt.subplots(nrows=2, ncols=2, figsize=(12, 8))\n",
    "\n",
    "\n",
    "sns.boxplot(x='Exited', y='Age', data=df, ax=axs[0, 0], color='rosybrown')\n",
    "sns.boxplot(x='Exited', y='CreditScore', data=df, ax=axs[0, 1], color='lightsalmon')\n",
    "sns.boxplot(x='Exited', y='Balance', data=df, ax=axs[1, 0], color='powderblue')\n",
    "sns.boxplot(x='Exited', y='Tenure', data=df, ax=axs[1, 1], color='tan')\n",
    "\n",
    "axs[0, 0].set_xticklabels(['Not Churn', 'Churn'])\n",
    "axs[0, 1].set_xticklabels(['Not Churn', 'Churn'])\n",
    "axs[1, 0].set_xticklabels(['Not Churn', 'Churn'])\n",
    "axs[1, 1].set_xticklabels(['Not Churn', 'Churn'])\n",
    "\n",
    "axs[0, 0].set_xlabel('Customer Churn')\n",
    "axs[0, 0].set_ylabel('Age')\n",
    "axs[0, 0].set_title('Age by Customer Churn')\n",
    "\n",
    "axs[0, 1].set_xlabel('Customer Churn')\n",
    "axs[0, 1].set_ylabel('Credit Score')\n",
    "axs[0, 1].set_title('Credit Score by Customer Churn')\n",
    "\n",
    "axs[1, 0].set_xlabel('Customer Churn')\n",
    "axs[1, 0].set_ylabel('Balance')\n",
    "axs[1, 0].set_title('Balance by Customer Churn')\n",
    "\n",
    "axs[1, 1].set_xlabel('Customer Churn')\n",
    "axs[1, 1].set_ylabel('Tenure')\n",
    "axs[1, 1].set_title('Tenure by Customer Churn')\n",
    "\n",
    "plt.tight_layout()\n",
    "plt.show()"
   ]
  },
  {
   "cell_type": "markdown",
   "metadata": {},
   "source": [
    "The boxplot depicts the distribution of customer age by two customer churn categories, \"Not Churned\" and \"Churned.\" The median age of \"Not Churned\" customers is roughly 35, with the first quartile below 20 and the third quartile around 40. This is shown by the boxplot. The median age of \"Churned\" clients is roughly 45 years old, with the first quartile around 20 and the third quartile around 70 years old, according to the boxplot.The boxplot indicates that the age distribution of \"Churned\" customers is more dispersed than that of \"Not Churned\" customers. In comparison to \"Not Churned\" clients, \"Churned\" consumers have a broader age range, with a greater share of older customers."
   ]
  },
  {
   "cell_type": "code",
   "execution_count": 63,
   "metadata": {},
   "outputs": [],
   "source": [
    "\n",
    "plt.style.use('seaborn')\n",
    "\n",
    "colors = ['#5f9ea0', '#ffb6c1']\n",
    "\n",
    "\n",
    "fig, axes = plt.subplots(2, 2, figsize=(13,8))\n",
    "\n",
    "\n",
    "geography_counts = df.groupby(['Geography', 'Exited']).size().unstack(fill_value=0)\n",
    "geography_counts.plot(kind='bar', stacked=True, ax=axes[0, 0], rot=0, color=colors)\n",
    "axes[0, 0].set_title('Counts of Geography by Customer Churn', color='blue')\n",
    "axes[0, 0].spines['bottom'].set_color('blue')\n",
    "axes[0, 0].spines['left'].set_color('blue')\n",
    "axes[0, 0].tick_params(axis='x', colors='blue')\n",
    "axes[0, 0].tick_params(axis='y', colors='blue')\n",
    "\n",
    "\n",
    "gender_counts = df.groupby(['Gender', 'Exited']).size().unstack(fill_value=0)\n",
    "gender_counts.plot(kind='bar', stacked=True, ax=axes[0, 1], rot=0, color=colors)\n",
    "axes[0, 1].set_title('Counts of Gender by Customer Churn', color='red')\n",
    "axes[0, 1].spines['bottom'].set_color('red')\n",
    "axes[0, 1].spines['left'].set_color('red')\n",
    "axes[0, 1].tick_params(axis='x', colors='red')\n",
    "axes[0, 1].tick_params(axis='y', colors='red')\n",
    "\n",
    "\n",
    "has_credit_counts = df.groupby(['HasCrCard', 'Exited']).size().unstack(fill_value=0)\n",
    "has_credit_counts.plot(kind='bar', stacked=True, ax=axes[1, 0], rot=0, color=colors)\n",
    "axes[1, 0].set_title('number of churning customers with an active card', color='#4B0082')\n",
    "axes[1, 0].spines['bottom'].set_color('#4B0082')\n",
    "axes[1, 0].spines['left'].set_color('#4B0082')\n",
    "axes[1, 0].tick_params(axis='x', colors='#4B0082')\n",
    "axes[1, 0].tick_params(axis='y', colors='#4B0082')\n",
    "\n",
    "\n",
    "active_member_counts = df.groupby(['IsActiveMember', 'Exited']).size().unstack(fill_value=0)\n",
    "active_member_counts.plot(kind='bar', stacked=True, ax=axes[1, 1], rot=0, color=colors)\n",
    "axes[1, 1].set_title('Customer Churn Figures for Active Members', color='green')\n",
    "axes[1, 1].spines['bottom'].set_color('green')\n",
    "axes[1, 1].spines['left'].set_color('green')\n",
    "axes[1, 1].tick_params(axis='x', colors='green')\n",
    "axes[1, 1].tick_params(axis='y', colors='green')\n",
    "\n",
    "\n",
    "fig.tight_layout()\n",
    "\n",
    "\n",
    "plt.show()\n",
    "\n",
    "\n"
   ]
  },
  {
   "cell_type": "markdown",
   "metadata": {},
   "source": [
    "# 6. Checking for Outliers "
   ]
  },
  {
   "cell_type": "code",
   "execution_count": 64,
   "metadata": {},
   "outputs": [
    {
     "name": "stdout",
     "output_type": "stream",
     "text": [
      "['CreditScore', 'Age', 'Tenure', 'Balance', 'NumOfProducts', 'HasCrCard', 'IsActiveMember', 'EstimatedSalary', 'Exited']\n"
     ]
    },
    {
     "data": {
      "image/png": "[encoded data removed]",
      "text/plain": [
       "<Figure size 1600x400 with 9 Axes>"
      ]
     },
     "metadata": {},
     "output_type": "display_data"
    }
   ],
   "source": [
    "#list numeric column name\n",
    "%matplotlib inline\n",
    "\n",
    "columns = []\n",
    "count = 0\n",
    "for x in df.columns:\n",
    "    if df.dtypes[count] != object:\n",
    "        columns.append(x)\n",
    "        count = count+1\n",
    "    else:\n",
    "        count = count+1\n",
    "\n",
    "print(columns)\n",
    "\n",
    "#boxplot to visulize an outlier\n",
    "\n",
    "fig, axs = plt.subplots(ncols=len(columns), figsize=(20,5))\n",
    "for i, col in enumerate(columns):\n",
    "    axs[i].boxplot(df[col])\n",
    "    axs[i].set_title(col)\n",
    "    \n",
    "plt.show()"
   ]
  },
  {
   "cell_type": "markdown",
   "metadata": {},
   "source": [
    "# 7. Remove Outliers"
   ]
  },
  {
   "cell_type": "code",
   "execution_count": 65,
   "metadata": {},
   "outputs": [],
   "source": [
    "#removing outlier rows using IQR method\n",
    "\n",
    "Q1 = df['CreditScore'].quantile(0.25)\n",
    "Q3 = df['CreditScore'].quantile(0.75)\n",
    "IQR = Q3 - Q1\n",
    "df = df[~((df['CreditScore'] < (Q1 - 1.5 * IQR)) | (df['CreditScore'] > (Q3 + 1.5 * IQR)))]\n"
   ]
  },
  {
   "cell_type": "markdown",
   "metadata": {},
   "source": [
    "The number of outliers in the 'CreditScore' column is relatively small compared to the total number of data points, so removing them may not significantly affect the overall distribution of the data. However, the number of outliers in the 'Age' column is relatively large, which suggests that the distribution of the data may be skewed or have heavy tails which will affect the prediction.\n",
    "Other columns have no outliers or no effect to the prediction dataset. Therefore, there is no need to remove any data points from those remaining columns."
   ]
  },
  {
   "cell_type": "markdown",
   "metadata": {},
   "source": [
    "\n",
    "# 8. Converting categorical data into Numerical data using Label Encoder\n",
    "\n"
   ]
  },
  {
   "cell_type": "code",
   "execution_count": 66,
   "metadata": {},
   "outputs": [
    {
     "name": "stdout",
     "output_type": "stream",
     "text": [
      "CreditScore         int64\n",
      "Geography          object\n",
      "Gender             object\n",
      "Age                 int64\n",
      "Tenure              int64\n",
      "Balance             int64\n",
      "NumOfProducts       int64\n",
      "HasCrCard           int64\n",
      "IsActiveMember      int64\n",
      "EstimatedSalary     int64\n",
      "Exited              int64\n",
      "dtype: object\n"
     ]
    }
   ],
   "source": [
    "#check data type of each column\n",
    "print(df.dtypes)"
   ]
  },
  {
   "cell_type": "code",
   "execution_count": 67,
   "metadata": {},
   "outputs": [
    {
     "name": "stdout",
     "output_type": "stream",
     "text": [
      "Columns with dtype object:  ['Geography', 'Gender']\n"
     ]
    },
    {
     "data": {
      "text/html": [
       "<div>\n",
       "<style scoped>\n",
       "    .dataframe tbody tr th:only-of-type {\n",
       "        vertical-align: middle;\n",
       "    }\n",
       "\n",
       "    .dataframe tbody tr th {\n",
       "        vertical-align: top;\n",
       "    }\n",
       "\n",
       "    .dataframe thead th {\n",
       "        text-align: right;\n",
       "    }\n",
       "</style>\n",
       "<table border=\"1\" class=\"dataframe\">\n",
       "  <thead>\n",
       "    <tr style=\"text-align: right;\">\n",
       "      <th></th>\n",
       "      <th>CreditScore</th>\n",
       "      <th>Age</th>\n",
       "      <th>Tenure</th>\n",
       "      <th>Balance</th>\n",
       "      <th>NumOfProducts</th>\n",
       "      <th>HasCrCard</th>\n",
       "      <th>IsActiveMember</th>\n",
       "      <th>EstimatedSalary</th>\n",
       "      <th>Exited</th>\n",
       "      <th>Geography_dummy</th>\n",
       "      <th>Gender_dummy</th>\n",
       "    </tr>\n",
       "  </thead>\n",
       "  <tbody>\n",
       "    <tr>\n",
       "      <th>9995</th>\n",
       "      <td>771</td>\n",
       "      <td>39</td>\n",
       "      <td>5</td>\n",
       "      <td>0</td>\n",
       "      <td>2</td>\n",
       "      <td>1</td>\n",
       "      <td>0</td>\n",
       "      <td>9627064</td>\n",
       "      <td>0</td>\n",
       "      <td>0</td>\n",
       "      <td>1</td>\n",
       "    </tr>\n",
       "    <tr>\n",
       "      <th>9996</th>\n",
       "      <td>516</td>\n",
       "      <td>35</td>\n",
       "      <td>10</td>\n",
       "      <td>5736961</td>\n",
       "      <td>1</td>\n",
       "      <td>1</td>\n",
       "      <td>1</td>\n",
       "      <td>10169977</td>\n",
       "      <td>0</td>\n",
       "      <td>0</td>\n",
       "      <td>1</td>\n",
       "    </tr>\n",
       "    <tr>\n",
       "      <th>9997</th>\n",
       "      <td>709</td>\n",
       "      <td>36</td>\n",
       "      <td>7</td>\n",
       "      <td>0</td>\n",
       "      <td>1</td>\n",
       "      <td>0</td>\n",
       "      <td>1</td>\n",
       "      <td>4208558</td>\n",
       "      <td>1</td>\n",
       "      <td>0</td>\n",
       "      <td>0</td>\n",
       "    </tr>\n",
       "    <tr>\n",
       "      <th>9998</th>\n",
       "      <td>772</td>\n",
       "      <td>42</td>\n",
       "      <td>3</td>\n",
       "      <td>7507531</td>\n",
       "      <td>2</td>\n",
       "      <td>1</td>\n",
       "      <td>0</td>\n",
       "      <td>9288852</td>\n",
       "      <td>1</td>\n",
       "      <td>1</td>\n",
       "      <td>1</td>\n",
       "    </tr>\n",
       "    <tr>\n",
       "      <th>9999</th>\n",
       "      <td>792</td>\n",
       "      <td>28</td>\n",
       "      <td>4</td>\n",
       "      <td>13014279</td>\n",
       "      <td>1</td>\n",
       "      <td>1</td>\n",
       "      <td>0</td>\n",
       "      <td>3819078</td>\n",
       "      <td>0</td>\n",
       "      <td>0</td>\n",
       "      <td>0</td>\n",
       "    </tr>\n",
       "  </tbody>\n",
       "</table>\n",
       "</div>"
      ],
      "text/plain": [
       "      CreditScore  Age  Tenure   Balance  NumOfProducts  HasCrCard  \\\n",
       "9995          771   39       5         0              2          1   \n",
       "9996          516   35      10   5736961              1          1   \n",
       "9997          709   36       7         0              1          0   \n",
       "9998          772   42       3   7507531              2          1   \n",
       "9999          792   28       4  13014279              1          1   \n",
       "\n",
       "      IsActiveMember  EstimatedSalary  Exited  Geography_dummy  Gender_dummy  \n",
       "9995               0          9627064       0                0             1  \n",
       "9996               1         10169977       0                0             1  \n",
       "9997               1          4208558       1                0             0  \n",
       "9998               0          9288852       1                1             1  \n",
       "9999               0          3819078       0                0             0  "
      ]
     },
     "execution_count": 67,
     "metadata": {},
     "output_type": "execute_result"
    }
   ],
   "source": [
    "#Geography and Gender are categorical features\n",
    "\n",
    "#append categorical features into a list\n",
    "columns_obj = []\n",
    "count = 0\n",
    "for x in df.columns:\n",
    "    if df.dtypes[count] == object:\n",
    "        columns_obj.append(x)\n",
    "        count = count+1\n",
    "    else:\n",
    "        count = count+1\n",
    "\n",
    "print('Columns with dtype object: ',columns_obj)\n",
    "#convert into numeric values\n",
    "le = LabelEncoder()\n",
    "for col in columns_obj:\n",
    "    df[col+'_dummy'] = le.fit_transform(df[col])\n",
    "\n",
    "#select object column name\n",
    "object_columns = list(df.select_dtypes(include=['object']).columns)\n",
    "\n",
    "#drop column with data type object\n",
    "df = df.drop(columns=object_columns)\n",
    "\n",
    "\n",
    "df.tail()"
   ]
  },
  {
   "attachments": {},
   "cell_type": "markdown",
   "metadata": {},
   "source": [
    "# Prediction Model"
   ]
  },
  {
   "cell_type": "code",
   "execution_count": 68,
   "metadata": {},
   "outputs": [
    {
     "name": "stdout",
     "output_type": "stream",
     "text": [
      "Number of clients in the dataset: 9985\n",
      "Number of clients in the train set: 7988\n",
      "Number of clients in the test set: 1997\n"
     ]
    }
   ],
   "source": [
    "#split the data set into 80% and 20%, train and test sets respectively.\n",
    "\n",
    "train, test = train_test_split(df, test_size = 0.2, random_state = 1)\n",
    "\n",
    "\n",
    "print('Number of clients in the dataset: {}'.format(len(df)))\n",
    "print('Number of clients in the train set: {}'.format(len(train)))\n",
    "print('Number of clients in the test set: {}'.format(len(test)))"
   ]
  },
  {
   "cell_type": "code",
   "execution_count": 69,
   "metadata": {},
   "outputs": [
    {
     "name": "stdout",
     "output_type": "stream",
     "text": [
      "Complete Train set - Number of clients that have exited the program: 1623 (20.3%)\n",
      "Test set - Number of clients that haven't exited the program: 399 (20.0%)\n"
     ]
    }
   ],
   "source": [
    "exited_train = len(train[train['Exited'] == 1]['Exited'])\n",
    "exited_train_perc = round(exited_train/len(train)*100,1)\n",
    "\n",
    "exited_test = len(test[test['Exited'] == 1]['Exited'])\n",
    "exited_test_perc = round(exited_test/len(test)*100,1)\n",
    "\n",
    "print('Complete Train set - Number of clients that have exited the program: {} ({}%)'.format(exited_train, exited_train_perc))\n",
    "print('Test set - Number of clients that haven\\'t exited the program: {} ({}%)'.format(exited_test, exited_test_perc))"
   ]
  },
  {
   "attachments": {},
   "cell_type": "markdown",
   "metadata": {},
   "source": [
    "Feature scaling\n",
    "\n",
    "\n",
    " preprocessing step in machine learning that is used to standardize the range of features or variables in a dataset. The goal of feature scaling is to ensure that each feature contributes equally to the analysis and to prevent features with larger ranges from dominating the analysis.\n",
    "\n",
    "In this implementation, the StandardScaler object is instantiated as scaler. The fit() method is called on the training features to calculate the mean and standard deviation of each feature. Then, the transform() method is called on both the training and test features to transform them into the standardized scale.\n",
    "\n"
   ]
  },
  {
   "cell_type": "code",
   "execution_count": 70,
   "metadata": {},
   "outputs": [],
   "source": [
    "from sklearn.preprocessing import StandardScaler\n",
    "\n",
    "features = list(df.drop('Exited', axis = 1))\n",
    "target = 'Exited'\n",
    "\n",
    "# instantiate StandardScaler\n",
    "scaler = StandardScaler()\n",
    "\n",
    "# fit scaler on training features\n",
    "scaler.fit(train[features])\n",
    "\n",
    "# transform training and test features\n",
    "train[features] = scaler.transform(train[features])\n",
    "test[features] = scaler.transform(test[features])"
   ]
  },
  {
   "attachments": {},
   "cell_type": "markdown",
   "metadata": {},
   "source": [
    "Trainning Model\n",
    "\n",
    "Logistic Regression"
   ]
  },
  {
   "cell_type": "code",
   "execution_count": 71,
   "metadata": {},
   "outputs": [
    {
     "name": "stdout",
     "output_type": "stream",
     "text": [
      "Best parameters: {'C': 0.1, 'penalty': 'l2'}\n",
      "Best score: 0.8089638503984709\n"
     ]
    }
   ],
   "source": [
    "\n",
    "from sklearn.model_selection import GridSearchCV\n",
    "\n",
    "param_grid = {'C': [0.01, 0.1, 1, 10],\n",
    "              'penalty': ['l1', 'l2']}\n",
    "\n",
    "model_LR  = GridSearchCV(LogisticRegression(), param_grid, cv=5).fit(train[features], train[target])\n",
    "pd.DataFrame(model_LR.cv_results_)\n",
    "\n",
    "print('Best parameters:', model_LR.best_params_)\n",
    "print('Best score:', model_LR.best_score_)"
   ]
  },
  {
   "attachments": {},
   "cell_type": "markdown",
   "metadata": {},
   "source": [
    "Based on the output, the best hyperparameters found by GridSearchCV for the logistic regression model are C=0.1 and penalty='l2' corresponds to L2 regularization (Ridge).\n",
    "\n",
    "The best cross-validation accuracy score achieved with the best hyperparameters is 0.8089638503984709, which means that the logistic regression model achieved an average accuracy of 80.90% on the validation sets during cross-validation."
   ]
  },
  {
   "cell_type": "code",
   "execution_count": 83,
   "metadata": {},
   "outputs": [
    {
     "data": {
      "image/png": "[encoded data removed]",
      "text/plain": [
       "<Figure size 800x640 with 1 Axes>"
      ]
     },
     "metadata": {},
     "output_type": "display_data"
    }
   ],
   "source": [
    "# Create a logistic regression model object\n",
    "model = LogisticRegression(C=0.1, penalty='l2')\n",
    "\n",
    "# Fit the model on training data\n",
    "model.fit(train[features], train[target])\n",
    "\n",
    "\n",
    "importances = abs(model.coef_[0])\n",
    "importances = 100.0 * (importances / importances.max())\n",
    "indices = np.argsort(importances)\n",
    "\n",
    "#print(importances[indices])\n",
    "\n",
    "# Define size\n",
    "plt.figure(figsize=(10, 8))\n",
    "\n",
    "plt.title('Feature Importances: Complete Logistic Regression', fontsize=20)\n",
    "\n",
    "# Create a horizontal bar chart of the feature importances\n",
    "plt.barh(range(len(indices)), importances[indices], align='center', color='#5B8BAB')\n",
    "plt.yticks(range(len(indices)), [features[i] for i in indices], fontsize=14)\n",
    "plt.xlabel('Relative Importance', fontsize=16)\n",
    "plt.ylabel('Feature', fontsize=16)\n",
    "\n",
    "# Remove the top and right spines\n",
    "plt.gca().spines['top'].set_visible(False)\n",
    "plt.gca().spines['right'].set_visible(False)\n",
    "\n",
    "plt.grid(axis='x', alpha=0.5)\n",
    "\n",
    "plt.show()\n"
   ]
  },
  {
   "attachments": {},
   "cell_type": "markdown",
   "metadata": {},
   "source": [
    "it appears that the age and isactivemember features have the highest importance scores of 100% and 67.82%, respectively. The balance feature has an importance score of 37.58%.\n",
    "\n",
    "This means that the age and isactivemember features are the most important features in predicting bank customer churn using the logistic regression model."
   ]
  },
  {
   "cell_type": "code",
   "execution_count": 73,
   "metadata": {},
   "outputs": [],
   "source": [
    "#function for classification report and confusion matrix\n",
    "\n",
    "%matplotlib inline\n",
    "\n",
    "def classification_report_to_dataframe(true, predictions, predictions_proba, model_name, balanced = 'no'):\n",
    "    a = classification_report(true, predictions, output_dict = True)\n",
    "    zeros = pd.DataFrame(data = a['0'], index = [0]).iloc[:,0:3].add_suffix('_0')\n",
    "    ones = pd.DataFrame(data = a['1'], index = [0]).iloc[:,0:3].add_suffix('_1')\n",
    "    df = pd.concat([zeros, ones], axis = 1)\n",
    "    temp = list(df)\n",
    "    df['Model'] = model_name\n",
    "    df['Balanced'] = balanced\n",
    "    df['Accuracy'] = accuracy_score(true, predictions)\n",
    "    df['Balanced_Accuracy'] = balanced_accuracy_score(true, predictions)\n",
    "    df['AUC'] = roc_auc_score(true, predictions_proba, average = 'macro')\n",
    "    df = df[['Model', 'Balanced', 'Accuracy', 'Balanced_Accuracy', 'AUC'] + temp]\n",
    "    return df\n",
    "\n",
    "\n",
    "\n",
    "def plot_confusion_matrix(cm, target_names, normalize=False, title='Confusion matrix', cmap=plt.cm.Blues):\n",
    "    \"\"\"\n",
    "    This function prints and plots the confusion matrix.\n",
    "    Normalization can be applied by setting `normalize=True`.\n",
    "    \"\"\"\n",
    "    if normalize:\n",
    "        cm = cm.astype('float') / cm.sum(axis=1)[:, np.newaxis]\n",
    "        print(\"Normalized confusion matrix\")\n",
    "    else:\n",
    "        print('Confusion matrix, without normalization')\n",
    "\n",
    "    print(cm)\n",
    "\n",
    "    plt.imshow(cm, interpolation='nearest', cmap=cmap)\n",
    "    plt.title(title)\n",
    "    plt.colorbar()\n",
    "    tick_marks = np.arange(len(target_names))\n",
    "    plt.xticks(tick_marks, target_names, rotation=45)\n",
    "    plt.yticks(tick_marks, target_names)\n",
    "\n",
    "    fmt = '.2f' if normalize else 'd'\n",
    "    thresh = cm.max() / 2.\n",
    "    for i, j in np.ndindex(cm.shape):\n",
    "        plt.text(j, i, format(cm[i, j], fmt),\n",
    "                 horizontalalignment=\"center\",\n",
    "                 color=\"white\" if cm[i, j] > thresh else \"black\")\n",
    "\n",
    "    plt.tight_layout()\n",
    "    plt.ylabel('True label')\n",
    "    plt.xlabel('Predicted label')\n",
    "    plt.show()\n"
   ]
  },
  {
   "cell_type": "code",
   "execution_count": 74,
   "metadata": {},
   "outputs": [
    {
     "name": "stdout",
     "output_type": "stream",
     "text": [
      "Confusion matrix, without normalization\n",
      "[[1543   55]\n",
      " [ 333   66]]\n"
     ]
    },
    {
     "data": {
      "image/png": "[encoded data removed]",
      "text/plain": [
       "<Figure size 640x440 with 2 Axes>"
      ]
     },
     "metadata": {},
     "output_type": "display_data"
    },
    {
     "name": "stdout",
     "output_type": "stream",
     "text": [
      "Normalized confusion matrix\n",
      "[[0.96558198 0.03441802]\n",
      " [0.83458647 0.16541353]]\n"
     ]
    },
    {
     "data": {
      "image/png": "[encoded data removed]",
      "text/plain": [
       "<Figure size 640x440 with 2 Axes>"
      ]
     },
     "metadata": {},
     "output_type": "display_data"
    },
    {
     "data": {
      "text/html": [
       "<div>\n",
       "<style scoped>\n",
       "    .dataframe tbody tr th:only-of-type {\n",
       "        vertical-align: middle;\n",
       "    }\n",
       "\n",
       "    .dataframe tbody tr th {\n",
       "        vertical-align: top;\n",
       "    }\n",
       "\n",
       "    .dataframe thead th {\n",
       "        text-align: right;\n",
       "    }\n",
       "</style>\n",
       "<table border=\"1\" class=\"dataframe\">\n",
       "  <thead>\n",
       "    <tr style=\"text-align: right;\">\n",
       "      <th></th>\n",
       "      <th>Model</th>\n",
       "      <th>Balanced</th>\n",
       "      <th>Accuracy</th>\n",
       "      <th>Balanced_Accuracy</th>\n",
       "      <th>AUC</th>\n",
       "      <th>precision_0</th>\n",
       "      <th>recall_0</th>\n",
       "      <th>f1-score_0</th>\n",
       "      <th>precision_1</th>\n",
       "      <th>recall_1</th>\n",
       "      <th>f1-score_1</th>\n",
       "    </tr>\n",
       "  </thead>\n",
       "  <tbody>\n",
       "    <tr>\n",
       "      <th>0</th>\n",
       "      <td>Logistic Regression</td>\n",
       "      <td>no</td>\n",
       "      <td>0.805709</td>\n",
       "      <td>0.565498</td>\n",
       "      <td>0.762551</td>\n",
       "      <td>0.822495</td>\n",
       "      <td>0.965582</td>\n",
       "      <td>0.888313</td>\n",
       "      <td>0.545455</td>\n",
       "      <td>0.165414</td>\n",
       "      <td>0.253846</td>\n",
       "    </tr>\n",
       "  </tbody>\n",
       "</table>\n",
       "</div>"
      ],
      "text/plain": [
       "                 Model Balanced  Accuracy  Balanced_Accuracy       AUC  \\\n",
       "0  Logistic Regression       no  0.805709           0.565498  0.762551   \n",
       "\n",
       "   precision_0  recall_0  f1-score_0  precision_1  recall_1  f1-score_1  \n",
       "0     0.822495  0.965582    0.888313     0.545455  0.165414    0.253846  "
      ]
     },
     "execution_count": 74,
     "metadata": {},
     "output_type": "execute_result"
    }
   ],
   "source": [
    "# Make predictions on test data\n",
    "%matplotlib inline\n",
    "predictions = model.predict(test[features])\n",
    "predictionsp = model_LR.predict_proba(test[features])[:,1]\n",
    "\n",
    "cm = confusion_matrix(test[target], predictions)\n",
    "plot_confusion_matrix(cm, target_names = ['Not Exited', 'Exited'], normalize = False)\n",
    "plot_confusion_matrix(cm, target_names = ['Not Exited', 'Exited'], normalize = True, title = 'Confusion Matrix (Normalized)')\n",
    "\n",
    "table_of_models = classification_report_to_dataframe(test[target], predictions, predictionsp, model_name = 'Logistic Regression')\n",
    "table_of_models"
   ]
  },
  {
   "attachments": {},
   "cell_type": "markdown",
   "metadata": {},
   "source": [
    "Gradient Boosting"
   ]
  },
  {
   "cell_type": "code",
   "execution_count": 75,
   "metadata": {},
   "outputs": [],
   "source": [
    "from sklearn.ensemble import GradientBoostingRegressor as GBSklearn\n",
    "from sklearn.model_selection import GridSearchCV\n",
    "from sklearn.ensemble import GradientBoostingRegressor\n",
    "\n",
    "\n",
    "# define hyperparameters to search over\n",
    "param_grid = {'max_depth': [2, 3, 4, 6, 10, 15],\n",
    "              'n_estimators': [50, 100, 300, 500]}\n",
    "\n",
    "# create a gradient boosting model object\n",
    "gb = GradientBoostingRegressor()\n",
    "\n",
    "# create a grid search object with cross-validation\n",
    "model_GB = GridSearchCV(gb, param_grid, cv=5, n_jobs=10)\n",
    "\n",
    "# fit the grid search object on the training data\n",
    "model_GB.fit(train[features], train[target])\n",
    "\n",
    "# print the results\n",
    "#results_df = pd.DataFrame(model_GB.cv_results_)\n",
    "\n",
    "\n",
    "\n",
    "best_max_depth = model_GB.best_params_['max_depth']\n",
    "best_n_estimators = model_GB.best_params_['n_estimators']"
   ]
  },
  {
   "cell_type": "code",
   "execution_count": 76,
   "metadata": {},
   "outputs": [
    {
     "name": "stdout",
     "output_type": "stream",
     "text": [
      "best max dept : 4\n",
      "best n estimator : 50\n"
     ]
    }
   ],
   "source": [
    "print('best max dept :',best_max_depth)\n",
    "print('best n estimator :',best_n_estimators)"
   ]
  }
 ],
 "metadata": {
  "kernelspec": {
   "display_name": "Python 3 (ipykernel)",
   "language": "python",
   "name": "python3"
  },
  "language_info": {
   "codemirror_mode": {
    "name": "ipython",
    "version": 3
   },
   "file_extension": ".py",
   "mimetype": "text/x-python",
   "name": "python",
   "nbconvert_exporter": "python",
   "pygments_lexer": "ipython3",
   "version": "3.10.7"
  },
  "vscode": {
   "interpreter": {
    "hash": "aee8b7b246df8f9039afb4144a1f6fd8d2ca17a180786b69acc140d282b71a49"
   }
  }
 },
 "nbformat": 4,
 "nbformat_minor": 2
}
